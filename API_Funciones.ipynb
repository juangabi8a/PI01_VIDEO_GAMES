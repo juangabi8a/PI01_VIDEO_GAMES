{
 "cells": [
  {
   "cell_type": "code",
   "execution_count": 2,
   "metadata": {},
   "outputs": [],
   "source": [
    "import numpy as np\n",
    "import pandas as pd"
   ]
  },
  {
   "cell_type": "markdown",
   "metadata": {},
   "source": [
    "### Cargamos la data"
   ]
  },
  {
   "cell_type": "code",
   "execution_count": 3,
   "metadata": {},
   "outputs": [],
   "source": [
    "muestra_items=pd.read_csv('data_funcion_1y2.csv')\n",
    "data_review=pd.read_csv('data_funcion_3y4.csv')"
   ]
  },
  {
   "cell_type": "markdown",
   "metadata": {},
   "source": [
    "## Funcion 1"
   ]
  },
  {
   "cell_type": "code",
   "execution_count": 4,
   "metadata": {},
   "outputs": [],
   "source": [
    "def PlayTimeGenre( genero : str ):\n",
    "    filto_genero=muestra_items[muestra_items['genres_games']==genero]\n",
    "    anio_max_horas=filto_genero.groupby('year')['playtime_forever'].sum().idxmax()\n",
    "    \n",
    "    resul= {'Año de lanzamiento con más horas jugadas para {}'.format(genero):anio_max_horas}\n",
    "    return resul"
   ]
  },
  {
   "cell_type": "code",
   "execution_count": 5,
   "metadata": {},
   "outputs": [
    {
     "data": {
      "text/plain": [
       "{'Año de lanzamiento con más horas jugadas para Action': 2012}"
      ]
     },
     "execution_count": 5,
     "metadata": {},
     "output_type": "execute_result"
    }
   ],
   "source": [
    "PlayTimeGenre('Action')"
   ]
  },
  {
   "cell_type": "markdown",
   "metadata": {},
   "source": [
    "## Función 2"
   ]
  },
  {
   "cell_type": "code",
   "execution_count": 8,
   "metadata": {},
   "outputs": [],
   "source": [
    "def UserForGenre( genero : str ):\n",
    "    filto_genero=muestra_items[muestra_items['genres_games']== genero]\n",
    "    user_max_hora=filto_genero.groupby('user_id')['playtime_forever'].sum().idxmax()\n",
    "    \n",
    "    anio_2010= (muestra_items[(muestra_items['user_id'] ==user_max_hora) & (muestra_items['genres_games'] == genero) & (muestra_items['year']==2010)]['playtime_forever'].sum())/60\n",
    "    anio_2011= (muestra_items[(muestra_items['user_id'] ==user_max_hora) & (muestra_items['genres_games'] == genero) & (muestra_items['year']==2011)]['playtime_forever'].sum())/60\n",
    "    anio_2012= (muestra_items[(muestra_items['user_id'] ==user_max_hora) & (muestra_items['genres_games'] == genero) & (muestra_items['year']==2012)]['playtime_forever'].sum())/60\n",
    "    anio_2013= (muestra_items[(muestra_items['user_id'] ==user_max_hora) & (muestra_items['genres_games'] == genero) & (muestra_items['year']==2013)]['playtime_forever'].sum())/60\n",
    "    anio_2014= (muestra_items[(muestra_items['user_id'] ==user_max_hora) & (muestra_items['genres_games'] == genero) & (muestra_items['year']==2014)]['playtime_forever'].sum())/60\n",
    "    anio_2015= (muestra_items[(muestra_items['user_id'] ==user_max_hora ) & (muestra_items['genres_games'] == genero) & (muestra_items['year']==2015)]['playtime_forever'].sum())/60\n",
    "    \n",
    "    \n",
    "    resultado = {\n",
    "    'usuario': user_max_hora,\n",
    "    'año 2010': anio_2010,\n",
    "    'año 2011': anio_2011,\n",
    "    'año 2012': anio_2012,\n",
    "    'año 2013': anio_2013,\n",
    "    'año 2014': anio_2014,\n",
    "    'año 2015': anio_2015\n",
    "    }\n",
    "    return resultado\n"
   ]
  },
  {
   "cell_type": "code",
   "execution_count": 10,
   "metadata": {},
   "outputs": [
    {
     "data": {
      "text/plain": [
       "('usuario:',\n",
       " 'Evilutional',\n",
       " 'año 2010:',\n",
       " 0.0,\n",
       " 'año 2011:',\n",
       " 1.4166666666666667,\n",
       " 'año 2012:',\n",
       " 18.783333333333335,\n",
       " 'año 2013:',\n",
       " 19.516666666666666,\n",
       " 'año 2014:',\n",
       " 10594.316666666668,\n",
       " 'año 2015:',\n",
       " 367.8)"
      ]
     },
     "execution_count": 10,
     "metadata": {},
     "output_type": "execute_result"
    }
   ],
   "source": [
    "UserForGenre('Action')"
   ]
  },
  {
   "cell_type": "markdown",
   "metadata": {},
   "source": [
    "## Función 3"
   ]
  },
  {
   "cell_type": "code",
   "execution_count": null,
   "metadata": {},
   "outputs": [],
   "source": [
    "## variable año\n",
    "def UsersRecommend( año : int ): \n",
    "    recomendado = data_review[(data_review['year']==año) & (data_review['recommend_True']==1) & ((data_review['sentiment_analysis']==1) | (data_review['sentiment_analysis']==2))]\n",
    "\n",
    "    recomendado=recomendado.groupby(['item_id', 'title'])['sentiment_analysis'].sum().reset_index().sort_values(by='sentiment_analysis', ascending=False).head(3)\n",
    "\n",
    "    result = recomendado['title']\n",
    "\n",
    "    result= pd.DataFrame(result)\n",
    "\n",
    "    puesto_1 = result.iloc[0]['title']\n",
    "    puesto_2 = result.iloc[1]['title']\n",
    "    puesto_3 = result.iloc[2]['title']\n",
    "\n",
    "    resultado = {\n",
    "        'PUESTO 1': puesto_1,\n",
    "        'PUESTO 2': puesto_2,\n",
    "        'PUESTO 3': puesto_3\n",
    "    }\n",
    "\n",
    "    return resultado"
   ]
  },
  {
   "cell_type": "code",
   "execution_count": null,
   "metadata": {},
   "outputs": [],
   "source": [
    "UsersRecommend(2015)"
   ]
  },
  {
   "cell_type": "markdown",
   "metadata": {},
   "source": [
    "## Función 4"
   ]
  },
  {
   "cell_type": "code",
   "execution_count": null,
   "metadata": {},
   "outputs": [],
   "source": [
    "def UsersWorstDeveloper( año : int ): \n",
    "    no_recomendado = data_review[(data_review['year'] == año) & (data_review['recommend_False'] == 1) & (data_review['sentiment_analysis'] == 0)]\n",
    "\n",
    "    result= no_recomendado.groupby(['developer']).size().reset_index(name='count').sort_values(by='count', ascending=False).head(3)\n",
    "\n",
    "    puesto_1 = result.iloc[0]['developer']\n",
    "    puesto_2 = result.iloc[1]['developer']\n",
    "    puesto_3 = result.iloc[2]['developer']\n",
    "\n",
    "    resultado = {\n",
    "        'PUESTO 1': puesto_1,\n",
    "        'PUESTO 2': puesto_2,\n",
    "        'PUESTO 3': puesto_3\n",
    "    }\n",
    "\n",
    "    return resultado"
   ]
  },
  {
   "cell_type": "code",
   "execution_count": null,
   "metadata": {},
   "outputs": [],
   "source": [
    "UsersWorstDeveloper(2015)"
   ]
  }
 ],
 "metadata": {
  "kernelspec": {
   "display_name": "Python 3",
   "language": "python",
   "name": "python3"
  },
  "language_info": {
   "codemirror_mode": {
    "name": "ipython",
    "version": 3
   },
   "file_extension": ".py",
   "mimetype": "text/x-python",
   "name": "python",
   "nbconvert_exporter": "python",
   "pygments_lexer": "ipython3",
   "version": "3.11.5"
  }
 },
 "nbformat": 4,
 "nbformat_minor": 2
}
