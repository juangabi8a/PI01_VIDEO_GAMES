{
 "cells": [
  {
   "cell_type": "markdown",
   "metadata": {},
   "source": [
    "## Cargamos las librerias"
   ]
  },
  {
   "cell_type": "code",
   "execution_count": null,
   "metadata": {},
   "outputs": [],
   "source": [
    "import pandas as pd\n",
    "import numpy as np"
   ]
  },
  {
   "cell_type": "markdown",
   "metadata": {},
   "source": [
    "## Cargamos las data"
   ]
  },
  {
   "cell_type": "code",
   "execution_count": null,
   "metadata": {},
   "outputs": [],
   "source": [
    "data_review=pd.read_csv('reviews.csv')\n",
    "data_items=pd.read_csv('items.csv')\n",
    "data_games=pd.read_csv('games.csv')"
   ]
  },
  {
   "cell_type": "markdown",
   "metadata": {},
   "source": [
    "# data_review EDA y ETL"
   ]
  },
  {
   "cell_type": "markdown",
   "metadata": {},
   "source": [
    "Observamos el numero de filas del dataFrame data_review"
   ]
  },
  {
   "cell_type": "code",
   "execution_count": null,
   "metadata": {},
   "outputs": [],
   "source": [
    "data_review.isnull().sum()"
   ]
  },
  {
   "cell_type": "markdown",
   "metadata": {},
   "source": [
    "Vamos a eliminar las siguientes columnas debido a la gran cantidad de valores vacíos que contienen."
   ]
  },
  {
   "cell_type": "code",
   "execution_count": null,
   "metadata": {},
   "outputs": [],
   "source": [
    "data_review.drop(columns=['funny','last_edited'], inplace=True)"
   ]
  },
  {
   "cell_type": "markdown",
   "metadata": {},
   "source": [
    "### Se procederá a eliminar las siguientes columnas por las razones especificadas:\n",
    "\n",
    "- `helpful`: No aporta información relevante significativa.\n",
    "- `recommend`: Esta columna será convertida a dummy con las categorías `recommend_False` y `recommend_True`.\n",
    "- `review` y `review_normalizado`: Estas columnas se eliminarán ya que están reemplazadas por la columna `sentiment_analysis`.\n"
   ]
  },
  {
   "cell_type": "code",
   "execution_count": null,
   "metadata": {},
   "outputs": [],
   "source": [
    "data_review.drop(columns=['helpful','recommend','review','review_normalizado'], inplace=True)"
   ]
  },
  {
   "cell_type": "markdown",
   "metadata": {},
   "source": [
    "Ahora nos disponemos a corregir el formato de fecha en la columna `posted`. El primer paso será eliminar la palabra 'posted' de dicha columna."
   ]
  },
  {
   "cell_type": "markdown",
   "metadata": {},
   "source": [
    "data_review['posted']=data_review['posted'].str.replace('Posted','')"
   ]
  },
  {
   "cell_type": "markdown",
   "metadata": {},
   "source": [
    "Vamos a eliminar los puntos al final de cada una de nuestras fechas."
   ]
  },
  {
   "cell_type": "code",
   "execution_count": null,
   "metadata": {},
   "outputs": [],
   "source": [
    "data_review['posted']=data_review['posted'].str.replace('.','')"
   ]
  },
  {
   "cell_type": "markdown",
   "metadata": {},
   "source": [
    "Dado que en nuestra columna `posted` tenemos fechas que no incluyen el año, procederemos a dividir esta columna en dos utilizando la coma como punto de división. Dado que el año se encuentra antes de la coma, obtendremos dos nuevas columnas: una llamada `year` para el año y otra `month` para el mes."
   ]
  },
  {
   "cell_type": "code",
   "execution_count": null,
   "metadata": {},
   "outputs": [],
   "source": [
    "data_review[['mont', 'year']]=data_review['posted'].str.split(',', expand=True)"
   ]
  },
  {
   "cell_type": "markdown",
   "metadata": {},
   "source": [
    "Vamos a eliminar el punto que se encuentra en nuestra columna `year` (año)."
   ]
  },
  {
   "cell_type": "code",
   "execution_count": null,
   "metadata": {},
   "outputs": [],
   "source": [
    "data_review['year']=data_review['year'].str.replace('.','')"
   ]
  },
  {
   "cell_type": "markdown",
   "metadata": {},
   "source": [
    "Estamos filtrando todos los valores en los que nuestra columna `year` no es nula."
   ]
  },
  {
   "cell_type": "code",
   "execution_count": null,
   "metadata": {},
   "outputs": [],
   "source": [
    "data_review=data_review[data_review['year'].notna()]"
   ]
  },
  {
   "cell_type": "markdown",
   "metadata": {},
   "source": [
    "## data_games **EDA y ETL**"
   ]
  },
  {
   "cell_type": "markdown",
   "metadata": {},
   "source": [
    "Vamos a observar las filas vacías de nuestro DataFrame `data_games`."
   ]
  },
  {
   "cell_type": "code",
   "execution_count": null,
   "metadata": {},
   "outputs": [],
   "source": [
    "data_games.isnull().sum()"
   ]
  },
  {
   "cell_type": "markdown",
   "metadata": {},
   "source": [
    "En el DataFrame `data_games`, eliminaremos las filas que contengan más de 5 valores faltantes."
   ]
  },
  {
   "cell_type": "code",
   "execution_count": null,
   "metadata": {},
   "outputs": [],
   "source": [
    "data_games.dropna(inplace=True, thresh=5)"
   ]
  },
  {
   "cell_type": "markdown",
   "metadata": {},
   "source": [
    "Vamos a filtrar aquellas filas donde las columnas 'genres' y 'tags' están vacías, con el fin de descartar aquellos videojuegos que no tengan género especificado."
   ]
  },
  {
   "cell_type": "code",
   "execution_count": null,
   "metadata": {},
   "outputs": [],
   "source": [
    "data_games = data_games[(data_games['genres'].notna()) & (data_games['tags'].notna())]"
   ]
  },
  {
   "cell_type": "markdown",
   "metadata": {},
   "source": [
    "Dado que nuestra columna `genres` está compuesta por filas llenas de listas que tienen formato tipo string, debemos convertir esta columna de tipo string a tipo lista."
   ]
  },
  {
   "cell_type": "code",
   "execution_count": null,
   "metadata": {},
   "outputs": [],
   "source": [
    "data_games['genres'] = data_games['genres'].apply(ast.literal_eval)"
   ]
  },
  {
   "cell_type": "markdown",
   "metadata": {},
   "source": [
    "Vamos a obtener el primer elemento de las listas que se encuentran dentro de la columna `genres` y lo guardaremos en una nueva columna llamada `primer_genero`."
   ]
  },
  {
   "cell_type": "code",
   "execution_count": null,
   "metadata": {},
   "outputs": [],
   "source": [
    "data_games['primer_genero'] = data_games['genres'].str.get(0)"
   ]
  },
  {
   "cell_type": "markdown",
   "metadata": {},
   "source": [
    "Al observar una lista de elementos únicos en la columna `genres`, notamos que existen géneros que no pertenecen a videojuegos."
   ]
  },
  {
   "cell_type": "code",
   "execution_count": null,
   "metadata": {},
   "outputs": [],
   "source": [
    "data_games['primer_genero'].unique()\n",
    "\n",
    "array(['Action', 'Free to Play', 'Casual', 'Adventure', 'Racing',\n",
    "       'Strategy', 'Indie', 'RPG', 'Simulation', 'Sports',\n",
    "       'Massively Multiplayer', 'Animation &amp; Modeling', 'Utilities',\n",
    "       'Education', 'Design &amp; Illustration', 'Audio Production',\n",
    "       'Video Production', 'Software Training', 'Accounting',\n",
    "       'Web Publishing', 'Photo Editing', 'Early Access'], dtype=object) "
   ]
  },
  {
   "cell_type": "markdown",
   "metadata": {},
   "source": [
    "En base al anterior paso, elaboramos una lista de los géneros que no pertenecen a la categoría de videojuego con el fin de descartarlos."
   ]
  },
  {
   "cell_type": "code",
   "execution_count": null,
   "metadata": {},
   "outputs": [],
   "source": [
    "genero_descartar= ['Animation &amp; Modeling', 'Utilities',\n",
    "       'Education', 'Design &amp; Illustration', 'Audio Production',\n",
    "       'Video Production', 'Software Training', 'Accounting',\n",
    "       'Web Publishing', 'Photo Editing', 'Early Access']"
   ]
  },
  {
   "cell_type": "markdown",
   "metadata": {},
   "source": [
    "Filtramos aquellos juegos que no pertenecen a la lista `genero_descartar`."
   ]
  },
  {
   "cell_type": "code",
   "execution_count": null,
   "metadata": {},
   "outputs": [],
   "source": [
    "data_games['genres_games']=data_games[~data_games['primer_genero'].isin(genero_descartar)]['primer_genero'] # se usa el caracter ~ para negar la condicion"
   ]
  },
  {
   "cell_type": "markdown",
   "metadata": {},
   "source": [
    "De nuestro DataFrame `data_games`, vamos a crear un DataFrame auxiliar que contenga solo las columnas `id` y `genres_games` con el propósito de realizar un inner join con el DataFrame `data_items`."
   ]
  },
  {
   "cell_type": "code",
   "execution_count": null,
   "metadata": {},
   "outputs": [],
   "source": [
    "df_auxiliar= data_games[['genres_games', 'id']]"
   ]
  },
  {
   "cell_type": "markdown",
   "metadata": {},
   "source": [
    "Cambiamos el nombre de la columna `id` a `item_id` para que coincida con el nombre de la columna que tenemos en el archivo `data_items` y así poder hacer el inner join."
   ]
  },
  {
   "cell_type": "code",
   "execution_count": null,
   "metadata": {},
   "outputs": [],
   "source": [
    "## cambiamos el nombre de la columna id a item_id para que concida con la columna que tenemos en el archivo data_items\n",
    "df_auxiliar['item_id']=df_auxiliar['id']\n",
    "\n",
    "## eiminamos la columna id\n",
    "df_auxiliar=df_auxiliar.drop(columns='id')"
   ]
  },
  {
   "cell_type": "markdown",
   "metadata": {},
   "source": [
    "Unimos los dos DataFrames a través de la columna `item_id`."
   ]
  },
  {
   "cell_type": "code",
   "execution_count": null,
   "metadata": {},
   "outputs": [],
   "source": [
    "data_items=pd.merge(data_items, df_auxiliar, on='item_id', how='inner')"
   ]
  },
  {
   "cell_type": "markdown",
   "metadata": {},
   "source": [
    "Filtramos los valores donde la columna `genres_games` es diferente a vacío."
   ]
  },
  {
   "cell_type": "code",
   "execution_count": null,
   "metadata": {},
   "outputs": [],
   "source": [
    "data_items=data_items[data_items['genres_games'].notna()]"
   ]
  },
  {
   "cell_type": "markdown",
   "metadata": {},
   "source": [
    "## **Nota**\n",
    "\n",
    "El DataFrame original de `data_items` tenía originalmente 5153209 filas. Después de aplicar el filtro, esto se reduce a 4188785 filas. Esto se debe a que eliminamos categorías que no pertenecían a videojuegos, lo que resultó en la eliminación de `item_id` que no correspondían a ninguna categoría de videojuego, reduciendo así el número de filas."
   ]
  },
  {
   "cell_type": "code",
   "execution_count": null,
   "metadata": {},
   "outputs": [],
   "source": [
    "data_items.shape"
   ]
  },
  {
   "cell_type": "markdown",
   "metadata": {},
   "source": [
    "Guardamos los cambios en los DataFrames para asegurarnos de que queden registradas las modificaciones realizadas."
   ]
  },
  {
   "cell_type": "code",
   "execution_count": null,
   "metadata": {},
   "outputs": [],
   "source": [
    "data_items.to_csv('items.csv')\n",
    "data_games.to_csv('games.csv')"
   ]
  }
 ],
 "metadata": {
  "kernelspec": {
   "display_name": "Python 3",
   "language": "python",
   "name": "python3"
  },
  "language_info": {
   "codemirror_mode": {
    "name": "ipython",
    "version": 3
   },
   "file_extension": ".py",
   "mimetype": "text/x-python",
   "name": "python",
   "nbconvert_exporter": "python",
   "pygments_lexer": "ipython3",
   "version": "3.11.5"
  }
 },
 "nbformat": 4,
 "nbformat_minor": 2
}
