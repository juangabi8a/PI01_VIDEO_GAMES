{
 "cells": [
  {
   "cell_type": "markdown",
   "metadata": {},
   "source": [
    "Importamos las librerias"
   ]
  },
  {
   "cell_type": "code",
   "execution_count": 2,
   "metadata": {},
   "outputs": [],
   "source": [
    "import numpy as np\n",
    "import pandas as pd"
   ]
  },
  {
   "cell_type": "markdown",
   "metadata": {},
   "source": [
    "Cargamos nuestra data"
   ]
  },
  {
   "cell_type": "code",
   "execution_count": 3,
   "metadata": {},
   "outputs": [],
   "source": [
    "data_games=pd.read_csv('games.csv')\n",
    "data_review=pd.read_csv('reviews.csv')\n",
    "data_items=pd.read_csv('items.csv')"
   ]
  },
  {
   "cell_type": "markdown",
   "metadata": {},
   "source": [
    "Vamos a crear a una data auxiliar que contengan las columnas item_id y year del dataFrame data_review"
   ]
  },
  {
   "cell_type": "code",
   "execution_count": 200,
   "metadata": {},
   "outputs": [],
   "source": [
    "data_auxiliar=data_review[['item_id','year']]"
   ]
  },
  {
   "cell_type": "code",
   "execution_count": 201,
   "metadata": {},
   "outputs": [
    {
     "data": {
      "text/html": [
       "<div>\n",
       "<style scoped>\n",
       "    .dataframe tbody tr th:only-of-type {\n",
       "        vertical-align: middle;\n",
       "    }\n",
       "\n",
       "    .dataframe tbody tr th {\n",
       "        vertical-align: top;\n",
       "    }\n",
       "\n",
       "    .dataframe thead th {\n",
       "        text-align: right;\n",
       "    }\n",
       "</style>\n",
       "<table border=\"1\" class=\"dataframe\">\n",
       "  <thead>\n",
       "    <tr style=\"text-align: right;\">\n",
       "      <th></th>\n",
       "      <th>item_id</th>\n",
       "      <th>year</th>\n",
       "    </tr>\n",
       "  </thead>\n",
       "  <tbody>\n",
       "    <tr>\n",
       "      <th>49157</th>\n",
       "      <td>730</td>\n",
       "      <td>2015</td>\n",
       "    </tr>\n",
       "    <tr>\n",
       "      <th>49158</th>\n",
       "      <td>369200</td>\n",
       "      <td>2015</td>\n",
       "    </tr>\n",
       "  </tbody>\n",
       "</table>\n",
       "</div>"
      ],
      "text/plain": [
       "       item_id  year\n",
       "49157      730  2015\n",
       "49158   369200  2015"
      ]
     },
     "execution_count": 201,
     "metadata": {},
     "output_type": "execute_result"
    }
   ],
   "source": [
    "data_auxiliar.tail(2)"
   ]
  },
  {
   "cell_type": "markdown",
   "metadata": {},
   "source": [
    "Eliminamos las filas que tenga item_id y year duplicados"
   ]
  },
  {
   "cell_type": "code",
   "execution_count": 167,
   "metadata": {},
   "outputs": [],
   "source": [
    "data_auxiliar=data_auxiliar.drop_duplicates(subset=['item_id','year'])"
   ]
  },
  {
   "cell_type": "markdown",
   "metadata": {},
   "source": [
    "Agrupamos los item_id y nos quedamos con los del primer año"
   ]
  },
  {
   "cell_type": "code",
   "execution_count": 168,
   "metadata": {},
   "outputs": [],
   "source": [
    "data_auxiliar=data_auxiliar.groupby('item_id')['year'].min().reset_index()"
   ]
  },
  {
   "cell_type": "code",
   "execution_count": 169,
   "metadata": {},
   "outputs": [
    {
     "data": {
      "text/html": [
       "<div>\n",
       "<style scoped>\n",
       "    .dataframe tbody tr th:only-of-type {\n",
       "        vertical-align: middle;\n",
       "    }\n",
       "\n",
       "    .dataframe tbody tr th {\n",
       "        vertical-align: top;\n",
       "    }\n",
       "\n",
       "    .dataframe thead th {\n",
       "        text-align: right;\n",
       "    }\n",
       "</style>\n",
       "<table border=\"1\" class=\"dataframe\">\n",
       "  <thead>\n",
       "    <tr style=\"text-align: right;\">\n",
       "      <th></th>\n",
       "      <th>item_id</th>\n",
       "      <th>year</th>\n",
       "    </tr>\n",
       "  </thead>\n",
       "  <tbody>\n",
       "    <tr>\n",
       "      <th>0</th>\n",
       "      <td>10</td>\n",
       "      <td>2011</td>\n",
       "    </tr>\n",
       "    <tr>\n",
       "      <th>1</th>\n",
       "      <td>20</td>\n",
       "      <td>2012</td>\n",
       "    </tr>\n",
       "  </tbody>\n",
       "</table>\n",
       "</div>"
      ],
      "text/plain": [
       "   item_id  year\n",
       "0       10  2011\n",
       "1       20  2012"
      ]
     },
     "execution_count": 169,
     "metadata": {},
     "output_type": "execute_result"
    }
   ],
   "source": [
    "data_auxiliar.head(2)"
   ]
  },
  {
   "cell_type": "markdown",
   "metadata": {},
   "source": [
    "Vamos a unir el `data_auxiliar` con `data_items` por medio de la columna `item_id`. Esto con el fin de poder trabajar las funciones pedidas.\n",
    "\n",
    "## **Importante**\n",
    "\n",
    "Para poder realizar la unión entre los dos DataFrames, es necesario tomar una muestra del DataFrame `data_items`. Debido a la cantidad de datos que posee este último, es complejo realizar un merge con el DataFrame normal."
   ]
  },
  {
   "cell_type": "code",
   "execution_count": 170,
   "metadata": {},
   "outputs": [
    {
     "data": {
      "text/html": [
       "<div>\n",
       "<style scoped>\n",
       "    .dataframe tbody tr th:only-of-type {\n",
       "        vertical-align: middle;\n",
       "    }\n",
       "\n",
       "    .dataframe tbody tr th {\n",
       "        vertical-align: top;\n",
       "    }\n",
       "\n",
       "    .dataframe thead th {\n",
       "        text-align: right;\n",
       "    }\n",
       "</style>\n",
       "<table border=\"1\" class=\"dataframe\">\n",
       "  <thead>\n",
       "    <tr style=\"text-align: right;\">\n",
       "      <th></th>\n",
       "      <th>user_id</th>\n",
       "      <th>items_count</th>\n",
       "      <th>steam_id</th>\n",
       "      <th>user_url</th>\n",
       "      <th>item_id</th>\n",
       "      <th>item_name</th>\n",
       "      <th>playtime_forever</th>\n",
       "      <th>playtime_2weeks</th>\n",
       "      <th>genres_games</th>\n",
       "    </tr>\n",
       "  </thead>\n",
       "  <tbody>\n",
       "    <tr>\n",
       "      <th>4188783</th>\n",
       "      <td>76561198107283457</td>\n",
       "      <td>33</td>\n",
       "      <td>76561198107283457</td>\n",
       "      <td>http://steamcommunity.com/profiles/76561198107...</td>\n",
       "      <td>354280</td>\n",
       "      <td>ChaosTower</td>\n",
       "      <td>164</td>\n",
       "      <td>0</td>\n",
       "      <td>Action</td>\n",
       "    </tr>\n",
       "    <tr>\n",
       "      <th>4188784</th>\n",
       "      <td>inven</td>\n",
       "      <td>3603</td>\n",
       "      <td>76561198119803063</td>\n",
       "      <td>http://steamcommunity.com/id/inven</td>\n",
       "      <td>433920</td>\n",
       "      <td>Aveyond 4: Shadow Of The Mist</td>\n",
       "      <td>0</td>\n",
       "      <td>0</td>\n",
       "      <td>Adventure</td>\n",
       "    </tr>\n",
       "  </tbody>\n",
       "</table>\n",
       "</div>"
      ],
      "text/plain": [
       "                   user_id  items_count           steam_id  \\\n",
       "4188783  76561198107283457           33  76561198107283457   \n",
       "4188784              inven         3603  76561198119803063   \n",
       "\n",
       "                                                  user_url  item_id  \\\n",
       "4188783  http://steamcommunity.com/profiles/76561198107...   354280   \n",
       "4188784                 http://steamcommunity.com/id/inven   433920   \n",
       "\n",
       "                             item_name  playtime_forever  playtime_2weeks  \\\n",
       "4188783                     ChaosTower               164                0   \n",
       "4188784  Aveyond 4: Shadow Of The Mist                 0                0   \n",
       "\n",
       "        genres_games  \n",
       "4188783       Action  \n",
       "4188784    Adventure  "
      ]
     },
     "execution_count": 170,
     "metadata": {},
     "output_type": "execute_result"
    }
   ],
   "source": [
    "data_items.tail(2)"
   ]
  },
  {
   "cell_type": "code",
   "execution_count": 171,
   "metadata": {},
   "outputs": [],
   "source": [
    "muestra_items=data_items.sample(n=500000, random_state=42) # tomamos una muestra de 500000 datos"
   ]
  },
  {
   "cell_type": "code",
   "execution_count": 172,
   "metadata": {},
   "outputs": [
    {
     "name": "stdout",
     "output_type": "stream",
     "text": [
      "<class 'pandas.core.frame.DataFrame'>\n",
      "Index: 500000 entries, 4104704 to 3208817\n",
      "Data columns (total 9 columns):\n",
      " #   Column            Non-Null Count   Dtype \n",
      "---  ------            --------------   ----- \n",
      " 0   user_id           500000 non-null  object\n",
      " 1   items_count       500000 non-null  int64 \n",
      " 2   steam_id          500000 non-null  int64 \n",
      " 3   user_url          500000 non-null  object\n",
      " 4   item_id           500000 non-null  int64 \n",
      " 5   item_name         500000 non-null  object\n",
      " 6   playtime_forever  500000 non-null  int64 \n",
      " 7   playtime_2weeks   500000 non-null  int64 \n",
      " 8   genres_games      500000 non-null  object\n",
      "dtypes: int64(5), object(4)\n",
      "memory usage: 38.1+ MB\n"
     ]
    }
   ],
   "source": [
    "muestra_items.info()"
   ]
  },
  {
   "cell_type": "markdown",
   "metadata": {},
   "source": [
    "Unimos los dataFrame muestra_items y data_auxiliar por medio de la columna item_id"
   ]
  },
  {
   "cell_type": "code",
   "execution_count": 173,
   "metadata": {},
   "outputs": [],
   "source": [
    "muestra_items=pd.merge(muestra_items, data_auxiliar, on='item_id', how='inner')"
   ]
  },
  {
   "cell_type": "code",
   "execution_count": 174,
   "metadata": {},
   "outputs": [
    {
     "data": {
      "text/html": [
       "<div>\n",
       "<style scoped>\n",
       "    .dataframe tbody tr th:only-of-type {\n",
       "        vertical-align: middle;\n",
       "    }\n",
       "\n",
       "    .dataframe tbody tr th {\n",
       "        vertical-align: top;\n",
       "    }\n",
       "\n",
       "    .dataframe thead th {\n",
       "        text-align: right;\n",
       "    }\n",
       "</style>\n",
       "<table border=\"1\" class=\"dataframe\">\n",
       "  <thead>\n",
       "    <tr style=\"text-align: right;\">\n",
       "      <th></th>\n",
       "      <th>user_id</th>\n",
       "      <th>items_count</th>\n",
       "      <th>steam_id</th>\n",
       "      <th>user_url</th>\n",
       "      <th>item_id</th>\n",
       "      <th>item_name</th>\n",
       "      <th>playtime_forever</th>\n",
       "      <th>playtime_2weeks</th>\n",
       "      <th>genres_games</th>\n",
       "      <th>year</th>\n",
       "    </tr>\n",
       "  </thead>\n",
       "  <tbody>\n",
       "    <tr>\n",
       "      <th>0</th>\n",
       "      <td>kirbysmashed</td>\n",
       "      <td>896</td>\n",
       "      <td>76561198046016445</td>\n",
       "      <td>http://steamcommunity.com/id/kirbysmashed</td>\n",
       "      <td>282760</td>\n",
       "      <td>Circuits</td>\n",
       "      <td>0</td>\n",
       "      <td>0</td>\n",
       "      <td>Casual</td>\n",
       "      <td>2014</td>\n",
       "    </tr>\n",
       "    <tr>\n",
       "      <th>1</th>\n",
       "      <td>pimta</td>\n",
       "      <td>56</td>\n",
       "      <td>76561198071937362</td>\n",
       "      <td>http://steamcommunity.com/id/pimta</td>\n",
       "      <td>282760</td>\n",
       "      <td>Circuits</td>\n",
       "      <td>332</td>\n",
       "      <td>0</td>\n",
       "      <td>Casual</td>\n",
       "      <td>2014</td>\n",
       "    </tr>\n",
       "    <tr>\n",
       "      <th>2</th>\n",
       "      <td>CockInCider</td>\n",
       "      <td>1066</td>\n",
       "      <td>76561198058184559</td>\n",
       "      <td>http://steamcommunity.com/id/CockInCider</td>\n",
       "      <td>282760</td>\n",
       "      <td>Circuits</td>\n",
       "      <td>109</td>\n",
       "      <td>0</td>\n",
       "      <td>Casual</td>\n",
       "      <td>2014</td>\n",
       "    </tr>\n",
       "    <tr>\n",
       "      <th>3</th>\n",
       "      <td>LiamWA11</td>\n",
       "      <td>54</td>\n",
       "      <td>76561198081460083</td>\n",
       "      <td>http://steamcommunity.com/id/LiamWA11</td>\n",
       "      <td>282760</td>\n",
       "      <td>Circuits</td>\n",
       "      <td>58</td>\n",
       "      <td>0</td>\n",
       "      <td>Casual</td>\n",
       "      <td>2014</td>\n",
       "    </tr>\n",
       "    <tr>\n",
       "      <th>4</th>\n",
       "      <td>AntiLilac</td>\n",
       "      <td>244</td>\n",
       "      <td>76561198072772351</td>\n",
       "      <td>http://steamcommunity.com/id/AntiLilac</td>\n",
       "      <td>282760</td>\n",
       "      <td>Circuits</td>\n",
       "      <td>2</td>\n",
       "      <td>0</td>\n",
       "      <td>Casual</td>\n",
       "      <td>2014</td>\n",
       "    </tr>\n",
       "  </tbody>\n",
       "</table>\n",
       "</div>"
      ],
      "text/plain": [
       "        user_id  items_count           steam_id  \\\n",
       "0  kirbysmashed          896  76561198046016445   \n",
       "1         pimta           56  76561198071937362   \n",
       "2   CockInCider         1066  76561198058184559   \n",
       "3      LiamWA11           54  76561198081460083   \n",
       "4     AntiLilac          244  76561198072772351   \n",
       "\n",
       "                                    user_url  item_id item_name  \\\n",
       "0  http://steamcommunity.com/id/kirbysmashed   282760  Circuits   \n",
       "1         http://steamcommunity.com/id/pimta   282760  Circuits   \n",
       "2   http://steamcommunity.com/id/CockInCider   282760  Circuits   \n",
       "3      http://steamcommunity.com/id/LiamWA11   282760  Circuits   \n",
       "4     http://steamcommunity.com/id/AntiLilac   282760  Circuits   \n",
       "\n",
       "   playtime_forever  playtime_2weeks genres_games  year  \n",
       "0                 0                0       Casual  2014  \n",
       "1               332                0       Casual  2014  \n",
       "2               109                0       Casual  2014  \n",
       "3                58                0       Casual  2014  \n",
       "4                 2                0       Casual  2014  "
      ]
     },
     "execution_count": 174,
     "metadata": {},
     "output_type": "execute_result"
    }
   ],
   "source": [
    "muestra_items.head()"
   ]
  },
  {
   "cell_type": "markdown",
   "metadata": {},
   "source": [
    "## Función 1"
   ]
  },
  {
   "cell_type": "code",
   "execution_count": 175,
   "metadata": {},
   "outputs": [],
   "source": [
    "def PlayTimeGenre( genero : str ):\n",
    "    filto_genero=muestra_items[muestra_items['genres_games']==genero]  # hacemos una maskara con el genero_games\n",
    "    anio_max_horas=filto_genero.groupby('year')['playtime_forever'].sum().idxmax() # hacemos un groupby y pedimos que sume por playtime_forever \n",
    "    \n",
    "    resul= {'Año de lanzamiento con más horas jugadas para {}'.format(genero):anio_max_horas} # tranformamos el resultado en formato pedido\n",
    "    return resul\n"
   ]
  },
  {
   "cell_type": "code",
   "execution_count": 176,
   "metadata": {},
   "outputs": [
    {
     "data": {
      "text/plain": [
       "{'Año de lanzamiento con más horas jugadas para Strategy': 2010}"
      ]
     },
     "execution_count": 176,
     "metadata": {},
     "output_type": "execute_result"
    }
   ],
   "source": [
    "PlayTimeGenre('Strategy')"
   ]
  },
  {
   "cell_type": "markdown",
   "metadata": {},
   "source": [
    "## Funcion 2"
   ]
  },
  {
   "cell_type": "code",
   "execution_count": 152,
   "metadata": {},
   "outputs": [],
   "source": [
    "def UserForGenre( genero : str ):\n",
    "    filto_genero=muestra_items[muestra_items['genres_games']== genero]  # hacemos una maskara con el genero_games\n",
    "    user_max_hora=filto_genero.groupby('user_id')['playtime_forever'].sum().idxmax() # hacemos groupby por user_id y por playtime_forever y que nos devuelva al usuario con mas horas jugadas\n",
    "    \n",
    "    # aplicamos maskarqa para cada año con el fin de determinar cuantas horas juego el usuario por año \n",
    "    anio_2010= muestra_items[(muestra_items['user_id'] ==user_max_hora) & (muestra_items['genres_games'] == genero) & (muestra_items['year']==2010)]['playtime_forever'].sum()\n",
    "    anio_2011= muestra_items[(muestra_items['user_id'] ==user_max_hora) & (muestra_items['genres_games'] == genero) & (muestra_items['year']==2011)]['playtime_forever'].sum()\n",
    "    anio_2012= muestra_items[(muestra_items['user_id'] ==user_max_hora) & (muestra_items['genres_games'] == genero) & (muestra_items['year']==2012)]['playtime_forever'].sum()\n",
    "    anio_2013= muestra_items[(muestra_items['user_id'] ==user_max_hora) & (muestra_items['genres_games'] == genero) & (muestra_items['year']==2013)]['playtime_forever'].sum()\n",
    "    anio_2014= muestra_items[(muestra_items['user_id'] ==user_max_hora) & (muestra_items['genres_games'] == genero) & (muestra_items['year']==2014)]['playtime_forever'].sum()\n",
    "    anio_2015= muestra_items[(muestra_items['user_id'] ==user_max_hora ) & (muestra_items['genres_games'] == genero) & (muestra_items['year']==2015)]['playtime_forever'].sum()\n",
    "    \n",
    "    \n",
    "    resultado = {\n",
    "    'usuario': user_max_hora,\n",
    "    'año 2010': anio_2010,\n",
    "    'año 2011': anio_2011,\n",
    "    'año 2012': anio_2012,\n",
    "    'año 2013': anio_2013,\n",
    "    'año 2014': anio_2014,\n",
    "    'año 2015': anio_2015\n",
    "    }\n",
    "    return resultado"
   ]
  },
  {
   "cell_type": "code",
   "execution_count": 153,
   "metadata": {},
   "outputs": [
    {
     "data": {
      "text/plain": [
       "('usuario:',\n",
       " 'tsunamitad',\n",
       " 'año 2010:',\n",
       " 0,\n",
       " 'año 2011:',\n",
       " 0,\n",
       " 'año 2012:',\n",
       " 0,\n",
       " 'año 2013:',\n",
       " 601647,\n",
       " 'año 2014:',\n",
       " 9,\n",
       " 'año 2015:',\n",
       " 0)"
      ]
     },
     "execution_count": 153,
     "metadata": {},
     "output_type": "execute_result"
    }
   ],
   "source": [
    "UserForGenre('Casual')"
   ]
  },
  {
   "cell_type": "markdown",
   "metadata": {},
   "source": [
    "### Exportamos nuestra Data"
   ]
  },
  {
   "cell_type": "code",
   "execution_count": 178,
   "metadata": {},
   "outputs": [],
   "source": [
    "muestra_items.to_csv('data_funcion_1y2.csv')"
   ]
  },
  {
   "cell_type": "markdown",
   "metadata": {},
   "source": [
    "Importamos el dataFrame de Games"
   ]
  },
  {
   "cell_type": "code",
   "execution_count": 315,
   "metadata": {},
   "outputs": [],
   "source": [
    "data_games=pd.read_csv('games.csv')"
   ]
  },
  {
   "cell_type": "markdown",
   "metadata": {},
   "source": [
    "Renombramos la columna id por item_id del dataFrame data_games"
   ]
  },
  {
   "cell_type": "code",
   "execution_count": 316,
   "metadata": {},
   "outputs": [],
   "source": [
    "data_games=data_games.rename(columns={'id':'item_id'})"
   ]
  },
  {
   "cell_type": "markdown",
   "metadata": {},
   "source": [
    "Creamos una dataFrame auxiliar_2 que contenga las columnas de item_id publisher y title del dataFrame data_games"
   ]
  },
  {
   "cell_type": "code",
   "execution_count": 369,
   "metadata": {},
   "outputs": [],
   "source": [
    "data_auxiliar_2=data_games[['item_id', 'developer','title']]"
   ]
  },
  {
   "cell_type": "markdown",
   "metadata": {},
   "source": [
    "Cargamos nuestra data"
   ]
  },
  {
   "cell_type": "code",
   "execution_count": 370,
   "metadata": {},
   "outputs": [],
   "source": [
    "data_review=pd.read_csv('reviews.csv')"
   ]
  },
  {
   "cell_type": "markdown",
   "metadata": {},
   "source": [
    "Unimos el dataFrames data_review y data_auxiliar_2 por medio de la columna item_id"
   ]
  },
  {
   "cell_type": "code",
   "execution_count": 372,
   "metadata": {},
   "outputs": [],
   "source": [
    "data_review=pd.merge(data_review, data_auxiliar_2, on='item_id', how='inner')"
   ]
  },
  {
   "cell_type": "markdown",
   "metadata": {},
   "source": [
    "## Función 3"
   ]
  },
  {
   "cell_type": "code",
   "execution_count": 396,
   "metadata": {},
   "outputs": [],
   "source": [
    "## variable año\n",
    "def UsersRecommend( año : int ): \n",
    "    recomendado = data_review[(data_review['year']==año) & (data_review['recommend_True']==1) & ((data_review['sentiment_analysis']==1) | (data_review['sentiment_analysis']==2))]\n",
    "\n",
    "    recomendado=recomendado.groupby(['item_id', 'title'])['sentiment_analysis'].sum().reset_index().sort_values(by='sentiment_analysis', ascending=False).head(3)\n",
    "\n",
    "    result = recomendado['title']\n",
    "\n",
    "    result= pd.DataFrame(result)\n",
    "\n",
    "    puesto_1 = result.iloc[0]['title']\n",
    "    puesto_2 = result.iloc[1]['title']\n",
    "    puesto_3 = result.iloc[2]['title']\n",
    "\n",
    "    resultado = {\n",
    "        'PUESTO 1': puesto_1,\n",
    "        'PUESTO 2': puesto_2,\n",
    "        'PUESTO 3': puesto_3\n",
    "    }\n",
    "\n",
    "    return resultado"
   ]
  },
  {
   "cell_type": "code",
   "execution_count": 397,
   "metadata": {},
   "outputs": [
    {
     "name": "stdout",
     "output_type": "stream",
     "text": [
      "PUESTO 1: Counter-Strike: Global Offensive PUESTO 2: Team Fortress 2 PUESTO 3: Garry's Mod\n"
     ]
    }
   ],
   "source": [
    "UsersRecommend(2015)"
   ]
  },
  {
   "cell_type": "markdown",
   "metadata": {},
   "source": [
    "## Función 4"
   ]
  },
  {
   "cell_type": "code",
   "execution_count": 402,
   "metadata": {},
   "outputs": [],
   "source": [
    "def UsersWorstDeveloper( año : int ): \n",
    "    no_recomendado = data_review[(data_review['year'] == año) & (data_review['recommend_False'] == 1) & (data_review['sentiment_analysis'] == 0)]\n",
    "\n",
    "    result= no_recomendado.groupby(['developer']).size().reset_index(name='count').sort_values(by='count', ascending=False).head(3)\n",
    "\n",
    "    puesto_1 = result.iloc[0]['developer']\n",
    "    puesto_2 = result.iloc[1]['developer']\n",
    "    puesto_3 = result.iloc[2]['developer']\n",
    "\n",
    "    resultado = {\n",
    "        'PUESTO 1': puesto_1,\n",
    "        'PUESTO 2': puesto_2,\n",
    "        'PUESTO 3': puesto_3\n",
    "    }\n",
    "\n",
    "    return resultado"
   ]
  },
  {
   "cell_type": "code",
   "execution_count": 403,
   "metadata": {},
   "outputs": [
    {
     "name": "stdout",
     "output_type": "stream",
     "text": [
      "PUESTO 1: Valve PUESTO 2: Bohemia Interactive PUESTO 3: Facepunch Studios\n"
     ]
    }
   ],
   "source": [
    "UsersWorstDeveloper(2015)"
   ]
  },
  {
   "cell_type": "code",
   "execution_count": 404,
   "metadata": {},
   "outputs": [],
   "source": [
    "data_review.to_csv('data_funcion_3y4.csv')"
   ]
  }
 ],
 "metadata": {
  "kernelspec": {
   "display_name": "Python 3",
   "language": "python",
   "name": "python3"
  },
  "language_info": {
   "codemirror_mode": {
    "name": "ipython",
    "version": 3
   },
   "file_extension": ".py",
   "mimetype": "text/x-python",
   "name": "python",
   "nbconvert_exporter": "python",
   "pygments_lexer": "ipython3",
   "version": "3.11.5"
  }
 },
 "nbformat": 4,
 "nbformat_minor": 2
}
